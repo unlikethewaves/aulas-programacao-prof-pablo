{
  "nbformat": 4,
  "nbformat_minor": 0,
  "metadata": {
    "colab": {
      "provenance": [],
      "authorship_tag": "ABX9TyMdpcTGhnL2re8hLhTitgpq",
      "include_colab_link": true
    },
    "kernelspec": {
      "name": "python3",
      "display_name": "Python 3"
    },
    "language_info": {
      "name": "python"
    }
  },
  "cells": [
    {
      "cell_type": "markdown",
      "metadata": {
        "id": "view-in-github",
        "colab_type": "text"
      },
      "source": [
        "<a href=\"https://colab.research.google.com/github/unlikethewaves/aulas-programacao-prof-pablo/blob/main/Untitled1.ipynb\" target=\"_parent\"><img src=\"https://colab.research.google.com/assets/colab-badge.svg\" alt=\"Open In Colab\"/></a>"
      ]
    },
    {
      "cell_type": "code",
      "execution_count": 4,
      "metadata": {
        "id": "hRu07HK9Kvw_"
      },
      "outputs": [],
      "source": [
        "#Argumentps arbitrários *args\n",
        "#Quando não se tem certeza quantos argumentos são passados pela função \n",
        "\n",
        "def mediaTotal(*notas):\n",
        "  soma=0\n",
        "  for nota in notas:\n",
        "    soma += nota\n",
        "  media = soma/len(notas)\n",
        "  return media"
      ]
    },
    {
      "cell_type": "code",
      "source": [
        "mediaTotal(10,9,7,8,9,6,3,2,10,8,5,6,10,4,2,0,9,8,7,10)"
      ],
      "metadata": {
        "colab": {
          "base_uri": "https://localhost:8080/"
        },
        "id": "qe6oRuHSUb0_",
        "outputId": "f2f8208e-fdad-496d-d760-4e4b1d44f3b4"
      },
      "execution_count": 5,
      "outputs": [
        {
          "output_type": "execute_result",
          "data": {
            "text/plain": [
              "6.65"
            ]
          },
          "metadata": {},
          "execution_count": 5
        }
      ]
    },
    {
      "cell_type": "code",
      "source": [
        "#Faça uma função que receba vários números e retorna o maior\n",
        "#Quando não se sabe o total de inserções usamos(*)\n",
        "def maior_numero(*numeros):\n",
        "     maior = 0\n",
        "     for numero in numeros:\n",
        "         if (numero >= maior):\n",
        "             maior = numero\n",
        "     return maior\n"
      ],
      "metadata": {
        "id": "zLQeVbH9U-QP"
      },
      "execution_count": 23,
      "outputs": []
    },
    {
      "cell_type": "code",
      "source": [
        "maior_numero(5,9,12,17,28,37,80,2,24,1,50,44,76,32,18)"
      ],
      "metadata": {
        "colab": {
          "base_uri": "https://localhost:8080/"
        },
        "id": "T9BewB00cAvx",
        "outputId": "b1051ef2-9fb4-44c8-fdb9-abe401d88ae3"
      },
      "execution_count": 27,
      "outputs": [
        {
          "output_type": "execute_result",
          "data": {
            "text/plain": [
              "80"
            ]
          },
          "metadata": {},
          "execution_count": 27
        }
      ]
    }
  ]
}