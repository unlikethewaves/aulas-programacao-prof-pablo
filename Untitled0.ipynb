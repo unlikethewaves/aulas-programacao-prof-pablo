{
  "nbformat": 4,
  "nbformat_minor": 0,
  "metadata": {
    "colab": {
      "provenance": [],
      "authorship_tag": "ABX9TyMPCLSac84nw/MjtxOrJKtp",
      "include_colab_link": true
    },
    "kernelspec": {
      "name": "python3",
      "display_name": "Python 3"
    },
    "language_info": {
      "name": "python"
    }
  },
  "cells": [
    {
      "cell_type": "markdown",
      "metadata": {
        "id": "view-in-github",
        "colab_type": "text"
      },
      "source": [
        "<a href=\"https://colab.research.google.com/github/unlikethewaves/aulas-programacao-sou-newbie/blob/main/Untitled0.ipynb\" target=\"_parent\"><img src=\"https://colab.research.google.com/assets/colab-badge.svg\" alt=\"Open In Colab\"/></a>"
      ]
    },
    {
      "cell_type": "code",
      "source": [
        "idade = int (input(\"Digite a idade do atleta\"))\n",
        "if(idade <14):\n",
        "   print(\"infantil\")\n",
        "elif(idade <18):\n",
        "   print(\"Juvenil\")\n",
        "else:\n",
        "   print(\"Senior\")\n",
        "\n"
      ],
      "metadata": {
        "id": "4VaQR4Kq97HV",
        "colab": {
          "base_uri": "https://localhost:8080/"
        },
        "outputId": "e60c5457-5b7a-4604-d1c5-a4f5bbae370c"
      },
      "execution_count": null,
      "outputs": [
        {
          "output_type": "stream",
          "name": "stdout",
          "text": [
            "Digite a idade do atleta15\n",
            "Juvenil\n"
          ]
        }
      ]
    },
    {
      "cell_type": "code",
      "source": [
        "#Listas são estruturadas de dados formadas por elementos\n",
        "num = [1, 4, 3, 6, 9]\n",
        "\n"
      ],
      "metadata": {
        "id": "DpW8v6jS_9rU"
      },
      "execution_count": null,
      "outputs": []
    },
    {
      "cell_type": "code",
      "source": [
        "frutas = [\"maçã\", \"banana\", \"goiaba\"]\n"
      ],
      "metadata": {
        "id": "8IyfQJeXAuJS"
      },
      "execution_count": null,
      "outputs": []
    },
    {
      "cell_type": "code",
      "source": [
        "#Lista de marcas\n",
        "camisas = [\"affliction\", \"mma elite\", \"tapout\"]"
      ],
      "metadata": {
        "id": "ay01MwvFBOdQ"
      },
      "execution_count": null,
      "outputs": []
    },
    {
      "cell_type": "code",
      "source": [
        "#Tamanho de uma lista\n",
        "len(camisas)"
      ],
      "metadata": {
        "id": "2APNOS3qBjCa"
      },
      "execution_count": null,
      "outputs": []
    },
    {
      "cell_type": "code",
      "source": [
        "num[\"affliction\"]"
      ],
      "metadata": {
        "id": "8mjrcuSuCf1B"
      },
      "execution_count": null,
      "outputs": []
    },
    {
      "cell_type": "code",
      "source": [
        "lista_de_compras = [\"queijo\", \"maçã\", \"pêra\", \"abacaxi\", \"melância\"]"
      ],
      "metadata": {
        "id": "5oUFnzaHDM87"
      },
      "execution_count": null,
      "outputs": []
    },
    {
      "cell_type": "code",
      "source": [
        "alunos = ['Mariana', 'Luiz', 'Higor', 'Enzo', 'Valentina']\n",
        "alunos[3]"
      ],
      "metadata": {
        "colab": {
          "base_uri": "https://localhost:8080/",
          "height": 35
        },
        "id": "cz2qMFniEPbf",
        "outputId": "c066c162-6543-4ad6-ba82-23d2ce3f1ddf"
      },
      "execution_count": null,
      "outputs": [
        {
          "output_type": "execute_result",
          "data": {
            "text/plain": [
              "'Enzo'"
            ],
            "application/vnd.google.colaboratory.intrinsic+json": {
              "type": "string"
            }
          },
          "metadata": {},
          "execution_count": 28
        }
      ]
    },
    {
      "cell_type": "code",
      "source": [
        "#alterar os valores de itens de lista\n",
        "alunos[3] = 'Ivan'"
      ],
      "metadata": {
        "id": "EKhLf8tZE1eZ"
      },
      "execution_count": null,
      "outputs": []
    },
    {
      "cell_type": "code",
      "source": [
        "[] #inserir valores na lista\n",
        "alunos.append(\"Alex\")\n",
        "alunos"
      ],
      "metadata": {
        "colab": {
          "base_uri": "https://localhost:8080/"
        },
        "id": "ba8R6IlVFGN8",
        "outputId": "b40ba356-ccd1-46b1-ddcf-982eba2fe8b9"
      },
      "execution_count": null,
      "outputs": [
        {
          "output_type": "execute_result",
          "data": {
            "text/plain": [
              "['Mariana', 'Luiz', 'Higor', 'Enzo', 'Valentina', 'Alex']"
            ]
          },
          "metadata": {},
          "execution_count": 29
        }
      ]
    },
    {
      "cell_type": "code",
      "source": [
        "alunos.append(input( 'Digite o nome: '))"
      ],
      "metadata": {
        "colab": {
          "base_uri": "https://localhost:8080/"
        },
        "id": "esCGGZKoGLaM",
        "outputId": "ff81df30-c1cc-4791-c5a3-e62383e01f5f"
      },
      "execution_count": null,
      "outputs": [
        {
          "name": "stdout",
          "output_type": "stream",
          "text": [
            "Digite o nome: João\n"
          ]
        }
      ]
    },
    {
      "cell_type": "code",
      "source": [
        "#Descobrir se há um valor determinado na lista.\n",
        "if \"Mariana\" in alunos:\n",
        "  print(\"Tem Mariana SIMM\")\n",
        "else:\n",
        "  print(\"Tem Marcelo NÃÃO\")"
      ],
      "metadata": {
        "colab": {
          "base_uri": "https://localhost:8080/"
        },
        "id": "aFNEO1Y_Nn3X",
        "outputId": "a54e8748-51ca-4b6d-c459-a7651aaba693"
      },
      "execution_count": null,
      "outputs": [
        {
          "output_type": "stream",
          "name": "stdout",
          "text": [
            "Tem Mariana SIMM\n"
          ]
        }
      ]
    },
    {
      "cell_type": "code",
      "source": [
        "nome = input(\"Digite o nome:\")\n",
        "if nome in alunos:\n",
        "   print('Tem', nome)\n",
        "else:\n",
        "   print('Não Tem', nome)"
      ],
      "metadata": {
        "colab": {
          "base_uri": "https://localhost:8080/"
        },
        "id": "1arDM77pPy9H",
        "outputId": "815c5b71-e8e5-4d1d-8cb8-a24f2d205638"
      },
      "execution_count": null,
      "outputs": [
        {
          "output_type": "stream",
          "name": "stdout",
          "text": [
            "Digite o nome:caráter\n",
            "Não Tem caráter\n"
          ]
        }
      ]
    },
    {
      "cell_type": "code",
      "source": [
        " del alunos[0]"
      ],
      "metadata": {
        "id": "1Zg-STDvSZ_t"
      },
      "execution_count": null,
      "outputs": []
    },
    {
      "cell_type": "code",
      "source": [
        "alunos"
      ],
      "metadata": {
        "colab": {
          "base_uri": "https://localhost:8080/"
        },
        "id": "-84feWn5TCzw",
        "outputId": "b679801a-36d1-4e19-d5fa-a4c2e66f7754"
      },
      "execution_count": null,
      "outputs": [
        {
          "output_type": "execute_result",
          "data": {
            "text/plain": [
              "['Luiz', 'Higor', 'Enzo', 'Valentina', 'Alex']"
            ]
          },
          "metadata": {},
          "execution_count": 40
        }
      ]
    },
    {
      "cell_type": "code",
      "source": [
        "#Criar uma lista com números de 1 a 15\n",
        "numeros = []\n",
        "for num in range(15):\n",
        "   numeros.append(num)\n",
        "numeros"
      ],
      "metadata": {
        "colab": {
          "base_uri": "https://localhost:8080/"
        },
        "id": "hQcONTMkTLuq",
        "outputId": "917593d6-1fa4-484e-d04f-b4b06ac8b606"
      },
      "execution_count": null,
      "outputs": [
        {
          "output_type": "execute_result",
          "data": {
            "text/plain": [
              "[0, 1, 2, 3, 4, 5, 6, 7, 8, 9, 10, 11, 12, 13, 14]"
            ]
          },
          "metadata": {},
          "execution_count": 42
        }
      ]
    },
    {
      "cell_type": "code",
      "source": [
        "dobro = []\n",
        "for num in numeros:\n",
        "  dobro.append(numeros[num]*2)\n",
        "dobro"
      ],
      "metadata": {
        "colab": {
          "base_uri": "https://localhost:8080/"
        },
        "id": "vkjZgaAiT2Yw",
        "outputId": "3b723d65-3da0-4e0a-e11e-e411fe56dd1a"
      },
      "execution_count": null,
      "outputs": [
        {
          "output_type": "execute_result",
          "data": {
            "text/plain": [
              "[0, 2, 4, 6, 8, 10, 12, 14, 16, 18, 20, 22, 24, 26, 28]"
            ]
          },
          "metadata": {},
          "execution_count": 48
        }
      ]
    },
    {
      "cell_type": "code",
      "source": [
        "#Descobrir se um número é par\n",
        "a = 8\n",
        "if a%2 == 0:\n",
        "  print( \"É PAR\")\n",
        "else:\n",
        "  print( \"É IMPAR\")"
      ],
      "metadata": {
        "colab": {
          "base_uri": "https://localhost:8080/"
        },
        "id": "vaIq2C4rWsk8",
        "outputId": "2a01ce57-70bc-4ee2-9ae4-70beccb7a825"
      },
      "execution_count": null,
      "outputs": [
        {
          "output_type": "stream",
          "name": "stdout",
          "text": [
            "É PAR\n"
          ]
        }
      ]
    },
    {
      "cell_type": "code",
      "source": [
        "#Construa uma tabela só de numeros pares = []\n",
        "for num in numeros:\n",
        "  if numeros[num]%2 == 0:\n",
        "    print(numeros[num])\n"
      ],
      "metadata": {
        "colab": {
          "base_uri": "https://localhost:8080/"
        },
        "id": "P1OVuo1RXMo0",
        "outputId": "4a8327f7-96d8-47a3-dfbc-abf83ab9594a"
      },
      "execution_count": null,
      "outputs": [
        {
          "output_type": "stream",
          "name": "stdout",
          "text": [
            "0\n",
            "2\n",
            "4\n",
            "6\n",
            "8\n",
            "10\n",
            "12\n",
            "14\n"
          ]
        }
      ]
    }
  ]
}